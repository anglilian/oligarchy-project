{
    "cells": [
        {
            "cell_type": "code",
            "execution_count": 3,
            "source": [
                "from pdf2image import convert_from_path\r\n",
                "import os "
            ],
            "outputs": [],
            "metadata": {}
        },
        {
            "cell_type": "code",
            "execution_count": 4,
            "source": [
                "pages = convert_from_path('Pg. 19-266.pdf',\r\n",
                "                    poppler_path=\"C:/Users/lilia/AppData/Local/Programs/Python/poppler-21.03.0/Library/bin\")"
            ],
            "outputs": [],
            "metadata": {}
        },
        {
            "cell_type": "code",
            "execution_count": 5,
            "source": [
                "count = 1\r\n",
                "folder = \"Quien es Quien 1948\"\r\n",
                "for page in pages:\r\n",
                "    num = \"0\"*(3-len(str(count))) + str(count) + \".jpg\"\r\n",
                "    page.save(os.path.join(folder,num), 'JPEG')\r\n",
                "    count+=1"
            ],
            "outputs": [],
            "metadata": {}
        },
        {
            "cell_type": "code",
            "execution_count": 6,
            "source": [
                "pages = convert_from_path('Pg. 267-492.pdf',\r\n",
                "                        poppler_path=\"C:/Users/lilia/AppData/Local/Programs/Python/poppler-21.03.0/Library/bin\")\r\n",
                "for page in pages:\r\n",
                "    num = \"0\"*(3-len(str(count))) + str(count) + \".jpg\"\r\n",
                "    page.save(os.path.join(folder,num), 'PNG')\r\n",
                "    count+=1"
            ],
            "outputs": [],
            "metadata": {}
        }
    ],
    "metadata": {
        "orig_nbformat": 4,
        "language_info": {
            "name": "python",
            "version": "3.9.4",
            "mimetype": "text/x-python",
            "codemirror_mode": {
                "name": "ipython",
                "version": 3
            },
            "pygments_lexer": "ipython3",
            "nbconvert_exporter": "python",
            "file_extension": ".py"
        },
        "kernelspec": {
            "name": "python3",
            "display_name": "Python 3.9.4 64-bit"
        },
        "interpreter": {
            "hash": "ae9e5fb05c4e07405c95453073fad91cde291ec1571923ebb60ab806dff8b1c9"
        }
    },
    "nbformat": 4,
    "nbformat_minor": 2
}