{
    "cells": [
        {
            "cell_type": "markdown",
            "source": [
                "# Create training and testing data set"
            ],
            "metadata": {}
        },
        {
            "cell_type": "code",
            "execution_count": null,
            "source": [
                "import pandas as pd\r\n",
                "df =pd.read_pickle(\"results.pkl\")"
            ],
            "outputs": [],
            "metadata": {}
        },
        {
            "cell_type": "code",
            "execution_count": null,
            "source": [
                "# Randomly select training samples\r\n",
                "idx = np.random.choice(np.arange(0, len(df)), 50, replace = False)\r\n",
                "entry = \"\"\r\n",
                "for x in df[\"info\"][idx]:\r\n",
                "    if \"Ha sido\" in x:\r\n",
                "        entry += x[\"Ha sido\"] + \"\\n\""
            ],
            "outputs": [],
            "metadata": {}
        },
        {
            "cell_type": "code",
            "execution_count": null,
            "source": [
                "text_file = open(\"training.txt\", \"w\", encoding = 'utf-8-sig')\r\n",
                "text_file.write(entry)\r\n",
                "text_file.close()"
            ],
            "outputs": [],
            "metadata": {}
        },
        {
            "cell_type": "code",
            "execution_count": null,
            "source": [
                "# Randomly select test samples\r\n",
                "test_idx = np.random.choice(np.arange(0, len(df)), 20, replace = False)\r\n",
                "test_entry = \"\"\r\n",
                "for x in df[\"info\"][test_idx]:\r\n",
                "    if \"Ha sido\" in x:\r\n",
                "        test_entry += x[\"Ha sido\"] + \"\\n\""
            ],
            "outputs": [],
            "metadata": {}
        },
        {
            "cell_type": "code",
            "execution_count": null,
            "source": [
                "# Save test examples\r\n",
                "text_file = open(\"testing.txt\", \"w\", encoding = 'utf-8-sig')\r\n",
                "text_file.write(test_entry)\r\n",
                "text_file.close()"
            ],
            "outputs": [],
            "metadata": {}
        },
        {
            "cell_type": "markdown",
            "source": [
                "# Train NER Model"
            ],
            "metadata": {}
        },
        {
            "cell_type": "code",
            "execution_count": 3,
            "source": [
                "import json\r\n",
                "f = open('training_data.json',encoding = 'utf-8-sig')\r\n",
                "TRAIN_DATA = json.load(f)[\"annotations\"]\r\n",
                "f.close()\r\n",
                "\r\n",
                "f = open('testing_data.json',encoding = 'utf-8-sig')\r\n",
                "TEST_DATA = json.load(f)[\"annotations\"]\r\n",
                "f.close()"
            ],
            "outputs": [],
            "metadata": {}
        },
        {
            "cell_type": "code",
            "execution_count": 4,
            "source": [
                "import pandas as pd \r\n",
                "import numpy as np\r\n",
                "\r\n",
                "# Load Colombian place names\r\n",
                "colombia = pd.read_csv(\"cities_colombia.csv\") \r\n",
                "cities = colombia[\"city\"]\r\n",
                "admin = np.unique(colombia[\"admin_name\"])\r\n",
                "CITY_DATA = []\r\n",
                "\r\n",
                "count = 0\r\n",
                "for cat in [cities, admin]:\r\n",
                "    for c in cat:\r\n",
                "        CITY_DATA.append([count, count+len(c), \"LOCATION\"])\r\n",
                "        count += len(c) +2 \r\n",
                "\r\n",
                "TRAIN_DATA.append([\". \".join(cities)+\". \".join(admin), {\"entities\": CITY_DATA}])"
            ],
            "outputs": [],
            "metadata": {}
        },
        {
            "cell_type": "code",
            "execution_count": 5,
            "source": [
                "# Load pre-existing spacy model\r\n",
                "import spacy\r\n",
                "nlp=spacy.load('es_core_news_sm')\r\n",
                "\r\n",
                "# Getting the pipeline component\r\n",
                "ner=nlp.get_pipe(\"ner\")"
            ],
            "outputs": [],
            "metadata": {}
        },
        {
            "cell_type": "code",
            "execution_count": 6,
            "source": [
                "# Disable pipeline components you dont need to change\r\n",
                "pipe_exceptions = [\"ner\", \"trf_wordpiecer\", \"trf_tok2vec\"]\r\n",
                "unaffected_pipes = [pipe for pipe in nlp.pipe_names if pipe not in pipe_exceptions]"
            ],
            "outputs": [],
            "metadata": {}
        },
        {
            "cell_type": "code",
            "execution_count": 7,
            "source": [
                "# Import requirements\r\n",
                "import random\r\n",
                "from spacy.util import minibatch, compounding\r\n",
                "from pathlib import Path\r\n",
                "from spacy.training.example import Example\r\n",
                "\r\n",
                "# TRAINING THE MODEL\r\n",
                "with nlp.disable_pipes(*unaffected_pipes):\r\n",
                "\r\n",
                "  # Training for 30 iterations\r\n",
                "  for iteration in range(30):\r\n",
                "\r\n",
                "    # shuufling examples  before every iteration\r\n",
                "    random.shuffle(TRAIN_DATA)\r\n",
                "    losses = {}\r\n",
                "    # batch up the examples using spaCy's minibatch\r\n",
                "    batches = minibatch(TRAIN_DATA, size=compounding(4.0, 32.0, 1.001))\r\n",
                "    for batch in batches:\r\n",
                "        for text, annotations in batch: \r\n",
                "          # create Example\r\n",
                "          doc = nlp.make_doc(text)\r\n",
                "          example = Example.from_dict(doc, annotations)\r\n",
                "          nlp.update(\r\n",
                "                      [example],\r\n",
                "                      drop=0.5,  # dropout - make it harder to memorise data\r\n",
                "                      losses=losses,\r\n",
                "                  )\r\n",
                "\r\n",
                "        print(\"Losses\", losses)"
            ],
            "outputs": [
                {
                    "output_type": "stream",
                    "name": "stderr",
                    "text": [
                        "C:\\Users\\lilia\\AppData\\Local\\Programs\\Python\\Python39\\lib\\site-packages\\spacy\\training\\iob_utils.py:139: UserWarning: [W030] Some entities could not be aligned in the text \"Juez Distrital de la Aduana, Cartagena; Profesor D...\" with entities \"[[0, 27, 'POSITION'], [29, 38, 'LOCATION'], [40, 7...\". Use `spacy.training.offsets_to_biluo_tags(nlp.make_doc(text), entities)` to check the alignment. Misaligned entities ('-') will be ignored during training.\n",
                        "  warnings.warn(\n",
                        "C:\\Users\\lilia\\AppData\\Local\\Programs\\Python\\Python39\\lib\\site-packages\\spacy\\training\\iob_utils.py:139: UserWarning: [W030] Some entities could not be aligned in the text \"Secretario de la Fiscalía del Tribunal Superior, P...\" with entities \"[[0, 10, 'POSITION'], [17, 25, 'ORGANISATION'], [3...\". Use `spacy.training.offsets_to_biluo_tags(nlp.make_doc(text), entities)` to check the alignment. Misaligned entities ('-') will be ignored during training.\n",
                        "  warnings.warn(\n",
                        "C:\\Users\\lilia\\AppData\\Local\\Programs\\Python\\Python39\\lib\\site-packages\\spacy\\training\\iob_utils.py:139: UserWarning: [W030] Some entities could not be aligned in the text \"Interno Hospital San Juan de Dios y de La Miserico...\" with entities \"[[0, 54, 'ORGANISATION'], [56, 62, 'LOCATION'], [6...\". Use `spacy.training.offsets_to_biluo_tags(nlp.make_doc(text), entities)` to check the alignment. Misaligned entities ('-') will be ignored during training.\n",
                        "  warnings.warn(\n",
                        "C:\\Users\\lilia\\AppData\\Local\\Programs\\Python\\Python39\\lib\\site-packages\\spacy\\training\\iob_utils.py:139: UserWarning: [W030] Some entities could not be aligned in the text \"Secretario del Departamento de Territorios Naciona...\" with entities \"[[0, 10, 'POSITION'], [15, 53, 'ORGANISATION'], [5...\". Use `spacy.training.offsets_to_biluo_tags(nlp.make_doc(text), entities)` to check the alignment. Misaligned entities ('-') will be ignored during training.\n",
                        "  warnings.warn(\n"
                    ]
                },
                {
                    "output_type": "stream",
                    "name": "stdout",
                    "text": [
                        "Losses {'ner': 74.13038352693327}\n"
                    ]
                },
                {
                    "output_type": "stream",
                    "name": "stderr",
                    "text": [
                        "C:\\Users\\lilia\\AppData\\Local\\Programs\\Python\\Python39\\lib\\site-packages\\spacy\\training\\iob_utils.py:139: UserWarning: [W030] Some entities could not be aligned in the text \"Registrador Municipal del Estado Civil, Sotará, Ca...\" with entities \"[[0, 21, 'POSITION'], [26, 38, 'ORGANISATION'], [4...\". Use `spacy.training.offsets_to_biluo_tags(nlp.make_doc(text), entities)` to check the alignment. Misaligned entities ('-') will be ignored during training.\n",
                        "  warnings.warn(\n",
                        "C:\\Users\\lilia\\AppData\\Local\\Programs\\Python\\Python39\\lib\\site-packages\\spacy\\training\\iob_utils.py:139: UserWarning: [W030] Some entities could not be aligned in the text \"Secretario Economía de Caldas , 195051; Auditor Na...\" with entities \"[[0, 10, 'POSITION'], [11, 29, 'ORGANISATION'], [3...\". Use `spacy.training.offsets_to_biluo_tags(nlp.make_doc(text), entities)` to check the alignment. Misaligned entities ('-') will be ignored during training.\n",
                        "  warnings.warn(\n",
                        "C:\\Users\\lilia\\AppData\\Local\\Programs\\Python\\Python39\\lib\\site-packages\\spacy\\training\\iob_utils.py:139: UserWarning: [W030] Some entities could not be aligned in the text \"Columnista de \" El Espectador \" , 1932-37; Preside...\" with entities \"[[0, 10, 'POSITION'], [15, 28, 'ORGANISATION'], [3...\". Use `spacy.training.offsets_to_biluo_tags(nlp.make_doc(text), entities)` to check the alignment. Misaligned entities ('-') will be ignored during training.\n",
                        "  warnings.warn(\n",
                        "C:\\Users\\lilia\\AppData\\Local\\Programs\\Python\\Python39\\lib\\site-packages\\spacy\\training\\iob_utils.py:139: UserWarning: [W030] Some entities could not be aligned in the text \"Auditor de Guerra Segunda Brigada , 1954-56; único...\" with entities \"[[0, 7, 'POSITION'], [11, 33, 'ORGANISATION'], [35...\". Use `spacy.training.offsets_to_biluo_tags(nlp.make_doc(text), entities)` to check the alignment. Misaligned entities ('-') will be ignored during training.\n",
                        "  warnings.warn(\n",
                        "C:\\Users\\lilia\\AppData\\Local\\Programs\\Python\\Python39\\lib\\site-packages\\spacy\\training\\iob_utils.py:139: UserWarning: [W030] Some entities could not be aligned in the text \"Profesor de Derecho Civil, de Filosofía del Derech...\" with entities \"[[0, 8, 'POSITION'], [91, 124, 'ORGANISATION'], [1...\". Use `spacy.training.offsets_to_biluo_tags(nlp.make_doc(text), entities)` to check the alignment. Misaligned entities ('-') will be ignored during training.\n",
                        "  warnings.warn(\n"
                    ]
                },
                {
                    "output_type": "stream",
                    "name": "stdout",
                    "text": [
                        "Losses {'ner': 103.27470514803142}\n"
                    ]
                },
                {
                    "output_type": "stream",
                    "name": "stderr",
                    "text": [
                        "C:\\Users\\lilia\\AppData\\Local\\Programs\\Python\\Python39\\lib\\site-packages\\spacy\\training\\iob_utils.py:139: UserWarning: [W030] Some entities could not be aligned in the text \"Abogado Jeje Personal Beneficencia de Cundinamarca...\" with entities \"[[0, 7, 'POSITION'], [8, 50, 'ORGANISATION'], [52,...\". Use `spacy.training.offsets_to_biluo_tags(nlp.make_doc(text), entities)` to check the alignment. Misaligned entities ('-') will be ignored during training.\n",
                        "  warnings.warn(\n",
                        "C:\\Users\\lilia\\AppData\\Local\\Programs\\Python\\Python39\\lib\\site-packages\\spacy\\training\\iob_utils.py:139: UserWarning: [W030] Some entities could not be aligned in the text \"Jefe Campaña de Tabaco, Valle del Cauca, Secretarí...\" with entities \"[[0, 4, 'POSITION'], [5, 22, 'ORGANISATION'], [24,...\". Use `spacy.training.offsets_to_biluo_tags(nlp.make_doc(text), entities)` to check the alignment. Misaligned entities ('-') will be ignored during training.\n",
                        "  warnings.warn(\n",
                        "C:\\Users\\lilia\\AppData\\Local\\Programs\\Python\\Python39\\lib\\site-packages\\spacy\\training\\iob_utils.py:139: UserWarning: [W030] Some entities could not be aligned in the text \"Diputado a la Asamblea de Nariño , 1929-32; Repres...\" with entities \"[[0, 8, 'POSITION'], [14, 32, 'ORGANISATION'], [34...\". Use `spacy.training.offsets_to_biluo_tags(nlp.make_doc(text), entities)` to check the alignment. Misaligned entities ('-') will be ignored during training.\n",
                        "  warnings.warn(\n",
                        "C:\\Users\\lilia\\AppData\\Local\\Programs\\Python\\Python39\\lib\\site-packages\\spacy\\training\\iob_utils.py:139: UserWarning: [W030] Some entities could not be aligned in the text \"secretaria privada del Ministerio de Guerra , 1930...\" with entities \"[[0, 18, 'POSITION'], [23, 43, 'ORGANISATION'], [4...\". Use `spacy.training.offsets_to_biluo_tags(nlp.make_doc(text), entities)` to check the alignment. Misaligned entities ('-') will be ignored during training.\n",
                        "  warnings.warn(\n"
                    ]
                },
                {
                    "output_type": "stream",
                    "name": "stdout",
                    "text": [
                        "Losses {'ner': 161.0964677625912}\n"
                    ]
                },
                {
                    "output_type": "stream",
                    "name": "stderr",
                    "text": [
                        "C:\\Users\\lilia\\AppData\\Local\\Programs\\Python\\Python39\\lib\\site-packages\\spacy\\training\\iob_utils.py:139: UserWarning: [W030] Some entities could not be aligned in the text \"Inspector de las Escuelas de Medellín, de 1920 a 1...\" with entities \"[[0, 9, 'POSITION'], [17, 37, 'ORGANISATION'], [42...\". Use `spacy.training.offsets_to_biluo_tags(nlp.make_doc(text), entities)` to check the alignment. Misaligned entities ('-') will be ignored during training.\n",
                        "  warnings.warn(\n",
                        "C:\\Users\\lilia\\AppData\\Local\\Programs\\Python\\Python39\\lib\\site-packages\\spacy\\training\\iob_utils.py:139: UserWarning: [W030] Some entities could not be aligned in the text \"Médico Interno, Hospital \" La Samaritana \", Bogotá...\" with entities \"[[0, 14, 'POSITION'], [16, 40, 'ORGANISATION'], [4...\". Use `spacy.training.offsets_to_biluo_tags(nlp.make_doc(text), entities)` to check the alignment. Misaligned entities ('-') will be ignored during training.\n",
                        "  warnings.warn(\n"
                    ]
                },
                {
                    "output_type": "stream",
                    "name": "stdout",
                    "text": [
                        "Losses {'ner': 221.8387080301709}\n"
                    ]
                },
                {
                    "output_type": "stream",
                    "name": "stderr",
                    "text": [
                        "C:\\Users\\lilia\\AppData\\Local\\Programs\\Python\\Python39\\lib\\site-packages\\spacy\\training\\iob_utils.py:139: UserWarning: [W030] Some entities could not be aligned in the text \"Juez del Circuito en Cartagena y Sincelejo; Secret...\" with entities \"[[0, 17, 'POSITION'], [21, 30, 'LOCATION'], [33, 4...\". Use `spacy.training.offsets_to_biluo_tags(nlp.make_doc(text), entities)` to check the alignment. Misaligned entities ('-') will be ignored during training.\n",
                        "  warnings.warn(\n",
                        "C:\\Users\\lilia\\AppData\\Local\\Programs\\Python\\Python39\\lib\\site-packages\\spacy\\training\\iob_utils.py:139: UserWarning: [W030] Some entities could not be aligned in the text \"Miembro de la Redacción en \" La Prensa Libre \", Sa...\" with entities \"[[0, 7, 'POSITION'], [28, 43, 'ORGANISATION'], [46...\". Use `spacy.training.offsets_to_biluo_tags(nlp.make_doc(text), entities)` to check the alignment. Misaligned entities ('-') will be ignored during training.\n",
                        "  warnings.warn(\n",
                        "C:\\Users\\lilia\\AppData\\Local\\Programs\\Python\\Python39\\lib\\site-packages\\spacy\\training\\iob_utils.py:139: UserWarning: [W030] Some entities could not be aligned in the text \"Profesor Gramática Superior, Instituto Politécnico...\" with entities \"[[0, 27, 'POSITION'], [29, 50, 'ORGANISATION'], [5...\". Use `spacy.training.offsets_to_biluo_tags(nlp.make_doc(text), entities)` to check the alignment. Misaligned entities ('-') will be ignored during training.\n",
                        "  warnings.warn(\n",
                        "C:\\Users\\lilia\\AppData\\Local\\Programs\\Python\\Python39\\lib\\site-packages\\spacy\\training\\iob_utils.py:139: UserWarning: [W030] Some entities could not be aligned in the text \"Profesor en Puerto Tejada. Cauca; encargado de la ...\" with entities \"[[0, 8, 'POSITION'], [12, 26, 'LOCATION'], [27, 32...\". Use `spacy.training.offsets_to_biluo_tags(nlp.make_doc(text), entities)` to check the alignment. Misaligned entities ('-') will be ignored during training.\n",
                        "  warnings.warn(\n",
                        "C:\\Users\\lilia\\AppData\\Local\\Programs\\Python\\Python39\\lib\\site-packages\\spacy\\training\\iob_utils.py:139: UserWarning: [W030] Some entities could not be aligned in the text \"Jefe de Redacción de \" Jornada \" , 1949; Redactor ...\" with entities \"[[0, 17, 'POSITION'], [22, 29, 'ORGANISATION'], [3...\". Use `spacy.training.offsets_to_biluo_tags(nlp.make_doc(text), entities)` to check the alignment. Misaligned entities ('-') will be ignored during training.\n",
                        "  warnings.warn(\n"
                    ]
                },
                {
                    "output_type": "stream",
                    "name": "stdout",
                    "text": [
                        "Losses {'ner': 263.3995325505962}\n"
                    ]
                },
                {
                    "output_type": "stream",
                    "name": "stderr",
                    "text": [
                        "C:\\Users\\lilia\\AppData\\Local\\Programs\\Python\\Python39\\lib\\site-packages\\spacy\\training\\iob_utils.py:139: UserWarning: [W030] Some entities could not be aligned in the text \"Corresponsal de \" Semana \", Canadá , 1953-54; Trab...\" with entities \"[[0, 12, 'POSITION'], [17, 23, 'ORGANISATION'], [2...\". Use `spacy.training.offsets_to_biluo_tags(nlp.make_doc(text), entities)` to check the alignment. Misaligned entities ('-') will be ignored during training.\n",
                        "  warnings.warn(\n",
                        "C:\\Users\\lilia\\AppData\\Local\\Programs\\Python\\Python39\\lib\\site-packages\\spacy\\training\\iob_utils.py:139: UserWarning: [W030] Some entities could not be aligned in the text \"Agrónomo de Campo, Centro Nacional de Investigacio...\" with entities \"[[0, 17, 'POSITION'], [19, 61, 'ORGANISATION'], [6...\". Use `spacy.training.offsets_to_biluo_tags(nlp.make_doc(text), entities)` to check the alignment. Misaligned entities ('-') will be ignored during training.\n",
                        "  warnings.warn(\n"
                    ]
                },
                {
                    "output_type": "stream",
                    "name": "stdout",
                    "text": [
                        "Losses {'ner': 354.0834080931115}\n"
                    ]
                },
                {
                    "output_type": "stream",
                    "name": "stderr",
                    "text": [
                        "C:\\Users\\lilia\\AppData\\Local\\Programs\\Python\\Python39\\lib\\site-packages\\spacy\\training\\iob_utils.py:139: UserWarning: [W030] Some entities could not be aligned in the text \"Ingeniero Ayudante de Obras Públicas Municipales ,...\" with entities \"[[0, 18, 'POSITION'], [22, 48, 'ORGANISATION'], [5...\". Use `spacy.training.offsets_to_biluo_tags(nlp.make_doc(text), entities)` to check the alignment. Misaligned entities ('-') will be ignored during training.\n",
                        "  warnings.warn(\n",
                        "C:\\Users\\lilia\\AppData\\Local\\Programs\\Python\\Python39\\lib\\site-packages\\spacy\\training\\iob_utils.py:139: UserWarning: [W030] Some entities could not be aligned in the text \"Magistrado del Tribunal Contencioso Administrativo...\" with entities \"[[0, 10, 'POSITION'], [15, 64, 'ORGANISATION'], [6...\". Use `spacy.training.offsets_to_biluo_tags(nlp.make_doc(text), entities)` to check the alignment. Misaligned entities ('-') will be ignored during training.\n",
                        "  warnings.warn(\n",
                        "C:\\Users\\lilia\\AppData\\Local\\Programs\\Python\\Python39\\lib\\site-packages\\spacy\\training\\iob_utils.py:139: UserWarning: [W030] Some entities could not be aligned in the text \"Profesor de Derecho Civil y Comercial y de otras a...\" with entities \"[[0, 37, 'POSITION'], [61, 104, 'ORGANISATION'], [...\". Use `spacy.training.offsets_to_biluo_tags(nlp.make_doc(text), entities)` to check the alignment. Misaligned entities ('-') will be ignored during training.\n",
                        "  warnings.warn(\n",
                        "C:\\Users\\lilia\\AppData\\Local\\Programs\\Python\\Python39\\lib\\site-packages\\spacy\\training\\iob_utils.py:139: UserWarning: [W030] Some entities could not be aligned in the text \"Re presentante a la Cámara por Caldas , 1941-42; D...\" with entities \"[[0, 38, 'POSITION'], [40, 47, 'DATE'], [49, 84, '...\". Use `spacy.training.offsets_to_biluo_tags(nlp.make_doc(text), entities)` to check the alignment. Misaligned entities ('-') will be ignored during training.\n",
                        "  warnings.warn(\n"
                    ]
                },
                {
                    "output_type": "stream",
                    "name": "stdout",
                    "text": [
                        "Losses {'ner': 401.5971980270979}\n"
                    ]
                },
                {
                    "output_type": "stream",
                    "name": "stderr",
                    "text": [
                        "C:\\Users\\lilia\\AppData\\Local\\Programs\\Python\\Python39\\lib\\site-packages\\spacy\\training\\iob_utils.py:139: UserWarning: [W030] Some entities could not be aligned in the text \"Ingeniero de Carreteras Departamento Cundinamarca,...\" with entities \"[[0, 9, 'POSITION'], [13, 36, 'ORGANISATION'], [37...\". Use `spacy.training.offsets_to_biluo_tags(nlp.make_doc(text), entities)` to check the alignment. Misaligned entities ('-') will be ignored during training.\n",
                        "  warnings.warn(\n",
                        "C:\\Users\\lilia\\AppData\\Local\\Programs\\Python\\Python39\\lib\\site-packages\\spacy\\training\\iob_utils.py:139: UserWarning: [W030] Some entities could not be aligned in the text \"Jefe de información departamental en \" El Tiempo \"...\" with entities \"[[0, 33, 'POSITION'], [38, 47, 'ORGANISATION'], [5...\". Use `spacy.training.offsets_to_biluo_tags(nlp.make_doc(text), entities)` to check the alignment. Misaligned entities ('-') will be ignored during training.\n",
                        "  warnings.warn(\n",
                        "C:\\Users\\lilia\\AppData\\Local\\Programs\\Python\\Python39\\lib\\site-packages\\spacy\\training\\iob_utils.py:139: UserWarning: [W030] Some entities could not be aligned in the text \"Interno y Jefe de Clínica, Hospital San Juan de Di...\" with entities \"[[0, 7, 'POSITION'], [10, 25, 'POSITION'], [27, 52...\". Use `spacy.training.offsets_to_biluo_tags(nlp.make_doc(text), entities)` to check the alignment. Misaligned entities ('-') will be ignored during training.\n",
                        "  warnings.warn(\n"
                    ]
                },
                {
                    "output_type": "stream",
                    "name": "stdout",
                    "text": [
                        "Losses {'ner': 426.3347081593489}\n"
                    ]
                },
                {
                    "output_type": "stream",
                    "name": "stderr",
                    "text": [
                        "C:\\Users\\lilia\\AppData\\Local\\Programs\\Python\\Python39\\lib\\site-packages\\spacy\\training\\iob_utils.py:139: UserWarning: [W030] Some entities could not be aligned in the text \"Concejal, Lorica , 1934; Diputado Asamblea de Bolí...\" with entities \"[[0, 8, 'POSITION'], [10, 16, 'LOCATION'], [18, 22...\". Use `spacy.training.offsets_to_biluo_tags(nlp.make_doc(text), entities)` to check the alignment. Misaligned entities ('-') will be ignored during training.\n",
                        "  warnings.warn(\n",
                        "C:\\Users\\lilia\\AppData\\Local\\Programs\\Python\\Python39\\lib\\site-packages\\spacy\\training\\iob_utils.py:139: UserWarning: [W030] Some entities could not be aligned in the text \"Maestra de Escuela Primaria; Directora del Colegio...\" with entities \"[[0, 27, 'POSITION'], [29, 38, 'POSITION'], [43, 7...\". Use `spacy.training.offsets_to_biluo_tags(nlp.make_doc(text), entities)` to check the alignment. Misaligned entities ('-') will be ignored during training.\n",
                        "  warnings.warn(\n",
                        "C:\\Users\\lilia\\AppData\\Local\\Programs\\Python\\Python39\\lib\\site-packages\\spacy\\training\\iob_utils.py:139: UserWarning: [W030] Some entities could not be aligned in the text \"Sub Secretario de Hacienda, Caldas , 1938; Fiscal ...\" with entities \"[[0, 15, 'POSITION'], [19, 27, 'ORGANISATION'], [2...\". Use `spacy.training.offsets_to_biluo_tags(nlp.make_doc(text), entities)` to check the alignment. Misaligned entities ('-') will be ignored during training.\n",
                        "  warnings.warn(\n"
                    ]
                },
                {
                    "output_type": "stream",
                    "name": "stdout",
                    "text": [
                        "Losses {'ner': 480.9563099125525}\n"
                    ]
                },
                {
                    "output_type": "stream",
                    "name": "stderr",
                    "text": [
                        "C:\\Users\\lilia\\AppData\\Local\\Programs\\Python\\Python39\\lib\\site-packages\\spacy\\training\\iob_utils.py:139: UserWarning: [W030] Some entities could not be aligned in the text \"Bogotá. Medellín. Cali. Barranquilla. Cartagena. C...\" with entities \"[[0, 6, 'LOCATION'], [8, 16, 'LOCATION'], [18, 22,...\". Use `spacy.training.offsets_to_biluo_tags(nlp.make_doc(text), entities)` to check the alignment. Misaligned entities ('-') will be ignored during training.\n",
                        "  warnings.warn(\n",
                        "C:\\Users\\lilia\\AppData\\Local\\Programs\\Python\\Python39\\lib\\site-packages\\spacy\\training\\iob_utils.py:139: UserWarning: [W030] Some entities could not be aligned in the text \"Juez Municipal de Sotará, Cauca , 1956-58; Auditor...\" with entities \"[[0, 14, 'POSITION'], [18, 24, 'LOCATION'], [26, 3...\". Use `spacy.training.offsets_to_biluo_tags(nlp.make_doc(text), entities)` to check the alignment. Misaligned entities ('-') will be ignored during training.\n",
                        "  warnings.warn(\n",
                        "C:\\Users\\lilia\\AppData\\Local\\Programs\\Python\\Python39\\lib\\site-packages\\spacy\\training\\iob_utils.py:139: UserWarning: [W030] Some entities could not be aligned in the text \"Alcalde de Neiva , 1942; Secretario de Hacienda y ...\" with entities \"[[0, 16, 'POSITION'], [18, 22, 'DATE'], [24, 46, '...\". Use `spacy.training.offsets_to_biluo_tags(nlp.make_doc(text), entities)` to check the alignment. Misaligned entities ('-') will be ignored during training.\n",
                        "  warnings.warn(\n"
                    ]
                },
                {
                    "output_type": "stream",
                    "name": "stdout",
                    "text": [
                        "Losses {'ner': 2240.04863960148}\n"
                    ]
                },
                {
                    "output_type": "stream",
                    "name": "stderr",
                    "text": [
                        "C:\\Users\\lilia\\AppData\\Local\\Programs\\Python\\Python39\\lib\\site-packages\\spacy\\training\\iob_utils.py:139: UserWarning: [W030] Some entities could not be aligned in the text \"Juez del Circuito; fundador y Gerente del Banco Ag...\" with entities \"[[0, 17, 'POSITION'], [19, 27, 'POSITION'], [30, 3...\". Use `spacy.training.offsets_to_biluo_tags(nlp.make_doc(text), entities)` to check the alignment. Misaligned entities ('-') will be ignored during training.\n",
                        "  warnings.warn(\n",
                        "C:\\Users\\lilia\\AppData\\Local\\Programs\\Python\\Python39\\lib\\site-packages\\spacy\\training\\iob_utils.py:139: UserWarning: [W030] Some entities could not be aligned in the text \"Oficial Departamento Comercial y Subsecretario de ...\" with entities \"[[0, 7, 'POSITION'], [8, 30, 'ORGANISATION'], [33,...\". Use `spacy.training.offsets_to_biluo_tags(nlp.make_doc(text), entities)` to check the alignment. Misaligned entities ('-') will be ignored during training.\n",
                        "  warnings.warn(\n",
                        "C:\\Users\\lilia\\AppData\\Local\\Programs\\Python\\Python39\\lib\\site-packages\\spacy\\training\\iob_utils.py:139: UserWarning: [W030] Some entities could not be aligned in the text \"Miembro Correspondiente Academia de Ciencias Exact...\" with entities \"[[0, 23, 'POSITION'], [24, 81, 'ORGANISATION'], [8...\". Use `spacy.training.offsets_to_biluo_tags(nlp.make_doc(text), entities)` to check the alignment. Misaligned entities ('-') will be ignored during training.\n",
                        "  warnings.warn(\n"
                    ]
                },
                {
                    "output_type": "stream",
                    "name": "stdout",
                    "text": [
                        "Losses {'ner': 2310.9481841421402}\n"
                    ]
                },
                {
                    "output_type": "stream",
                    "name": "stderr",
                    "text": [
                        "C:\\Users\\lilia\\AppData\\Local\\Programs\\Python\\Python39\\lib\\site-packages\\spacy\\training\\iob_utils.py:139: UserWarning: [W030] Some entities could not be aligned in the text \"Juez Superior de Bucaramanga , 1937-38; Secretario...\" with entities \"[[0, 13, 'POSITION'], [17, 28, 'LOCATION'], [30, 3...\". Use `spacy.training.offsets_to_biluo_tags(nlp.make_doc(text), entities)` to check the alignment. Misaligned entities ('-') will be ignored during training.\n",
                        "  warnings.warn(\n",
                        "C:\\Users\\lilia\\AppData\\Local\\Programs\\Python\\Python39\\lib\\site-packages\\spacy\\training\\iob_utils.py:139: UserWarning: [W030] Some entities could not be aligned in the text \"Juez del Circuito, Bucaramanga , 1942; Abogado de ...\" with entities \"[[0, 17, 'POSITION'], [19, 30, 'LOCATION'], [32, 3...\". Use `spacy.training.offsets_to_biluo_tags(nlp.make_doc(text), entities)` to check the alignment. Misaligned entities ('-') will be ignored during training.\n",
                        "  warnings.warn(\n"
                    ]
                },
                {
                    "output_type": "stream",
                    "name": "stdout",
                    "text": [
                        "Losses {'ner': 2320.96095894738}\n",
                        "Losses {'ner': 40.331373956218556}\n",
                        "Losses {'ner': 61.27408111931091}\n",
                        "Losses {'ner': 110.50664598573661}\n",
                        "Losses {'ner': 149.35784806862483}\n",
                        "Losses {'ner': 174.59886979893088}\n",
                        "Losses {'ner': 2041.0381451698756}\n",
                        "Losses {'ner': 2087.6615864683567}\n",
                        "Losses {'ner': 2129.1629114835514}\n",
                        "Losses {'ner': 2210.577697477465}\n",
                        "Losses {'ner': 2231.832712306198}\n",
                        "Losses {'ner': 2319.470374720072}\n",
                        "Losses {'ner': 2354.392519126106}\n",
                        "Losses {'ner': 102.2839061929449}\n",
                        "Losses {'ner': 182.39654663962185}\n",
                        "Losses {'ner': 235.24371408935951}\n",
                        "Losses {'ner': 263.5313970069901}\n",
                        "Losses {'ner': 310.59212433232165}\n",
                        "Losses {'ner': 333.66992401617625}\n",
                        "Losses {'ner': 404.31244599277653}\n",
                        "Losses {'ner': 442.07834153224337}\n",
                        "Losses {'ner': 1647.1869552565124}\n",
                        "Losses {'ner': 1674.6444939933067}\n",
                        "Losses {'ner': 1734.3091572889919}\n",
                        "Losses {'ner': 1751.2443522738417}\n",
                        "Losses {'ner': 77.10587251015664}\n",
                        "Losses {'ner': 106.96399363718936}\n",
                        "Losses {'ner': 139.72079336714108}\n",
                        "Losses {'ner': 205.1255800131419}\n",
                        "Losses {'ner': 245.6674612847108}\n",
                        "Losses {'ner': 269.95737481217384}\n",
                        "Losses {'ner': 305.57126739634435}\n",
                        "Losses {'ner': 388.34637697610185}\n",
                        "Losses {'ner': 429.93768852882954}\n",
                        "Losses {'ner': 473.71549506662194}\n",
                        "Losses {'ner': 1364.6895171213976}\n",
                        "Losses {'ner': 1410.8393388900597}\n",
                        "Losses {'ner': 24.21694996754914}\n",
                        "Losses {'ner': 36.152221944791414}\n",
                        "Losses {'ner': 75.62746515724572}\n",
                        "Losses {'ner': 99.18177509787006}\n",
                        "Losses {'ner': 147.8788244348026}\n",
                        "Losses {'ner': 185.87168052721572}\n",
                        "Losses {'ner': 211.63298993520567}\n",
                        "Losses {'ner': 249.79132145435983}\n",
                        "Losses {'ner': 313.45355203106703}\n",
                        "Losses {'ner': 1231.954509230878}\n",
                        "Losses {'ner': 1290.243472206112}\n",
                        "Losses {'ner': 1299.535651614611}\n",
                        "Losses {'ner': 44.74103270682828}\n",
                        "Losses {'ner': 135.89402441878565}\n",
                        "Losses {'ner': 159.52304308097462}\n",
                        "Losses {'ner': 189.68920671879994}\n",
                        "Losses {'ner': 217.6347794973687}\n",
                        "Losses {'ner': 246.43103719347675}\n",
                        "Losses {'ner': 298.7438915322552}\n",
                        "Losses {'ner': 319.4586308411266}\n",
                        "Losses {'ner': 333.30159411973875}\n",
                        "Losses {'ner': 1461.8377997104772}\n",
                        "Losses {'ner': 1492.7132329598303}\n",
                        "Losses {'ner': 1518.1905229255715}\n",
                        "Losses {'ner': 33.93457689799136}\n",
                        "Losses {'ner': 76.24981797601868}\n",
                        "Losses {'ner': 614.8683286820296}\n",
                        "Losses {'ner': 638.1651115455192}\n",
                        "Losses {'ner': 674.6973084876519}\n",
                        "Losses {'ner': 697.6748955084836}\n",
                        "Losses {'ner': 728.2003377420141}\n",
                        "Losses {'ner': 750.3560204054716}\n",
                        "Losses {'ner': 807.4482781562587}\n",
                        "Losses {'ner': 862.2997006552737}\n",
                        "Losses {'ner': 902.379282086086}\n",
                        "Losses {'ner': 910.6687560126834}\n",
                        "Losses {'ner': 19.05020129519425}\n",
                        "Losses {'ner': 43.52866048263602}\n",
                        "Losses {'ner': 65.31710369173723}\n",
                        "Losses {'ner': 109.75428718110354}\n",
                        "Losses {'ner': 124.90234395247026}\n",
                        "Losses {'ner': 172.4668323634978}\n",
                        "Losses {'ner': 201.23175375673907}\n",
                        "Losses {'ner': 687.1393251730218}\n",
                        "Losses {'ner': 745.0393293590071}\n",
                        "Losses {'ner': 781.9401768929698}\n",
                        "Losses {'ner': 802.6821641260467}\n",
                        "Losses {'ner': 810.6036537852469}\n",
                        "Losses {'ner': 65.3765300893674}\n",
                        "Losses {'ner': 79.58708781920616}\n",
                        "Losses {'ner': 110.7685563231332}\n",
                        "Losses {'ner': 133.06855901076023}\n",
                        "Losses {'ner': 169.62621514434724}\n",
                        "Losses {'ner': 188.18885616918874}\n",
                        "Losses {'ner': 621.10674021984}\n",
                        "Losses {'ner': 660.4972524724735}\n",
                        "Losses {'ner': 685.4192116202621}\n",
                        "Losses {'ner': 730.0579836652805}\n",
                        "Losses {'ner': 753.882279203285}\n",
                        "Losses {'ner': 761.3432098789788}\n",
                        "Losses {'ner': 32.18921904954169}\n",
                        "Losses {'ner': 57.69228398509145}\n",
                        "Losses {'ner': 78.25355074122551}\n",
                        "Losses {'ner': 561.6424145654663}\n",
                        "Losses {'ner': 586.6706385028021}\n",
                        "Losses {'ner': 628.7930067846926}\n",
                        "Losses {'ner': 637.1639669390308}\n",
                        "Losses {'ner': 654.1273898664273}\n",
                        "Losses {'ner': 696.1314908930058}\n",
                        "Losses {'ner': 728.2903043638652}\n",
                        "Losses {'ner': 792.153780136538}\n",
                        "Losses {'ner': 799.6280865479212}\n",
                        "Losses {'ner': 39.57791094369499}\n",
                        "Losses {'ner': 77.0806454889916}\n",
                        "Losses {'ner': 108.91181091229191}\n",
                        "Losses {'ner': 121.42192337096097}\n",
                        "Losses {'ner': 138.1050286391439}\n",
                        "Losses {'ner': 150.8375305660991}\n",
                        "Losses {'ner': 205.9899139602539}\n",
                        "Losses {'ner': 220.86953547802372}\n",
                        "Losses {'ner': 719.840365125178}\n",
                        "Losses {'ner': 750.8783172870991}\n",
                        "Losses {'ner': 773.8314376890637}\n",
                        "Losses {'ner': 784.4945905111412}\n",
                        "Losses {'ner': 27.137417799595724}\n",
                        "Losses {'ner': 49.038364841482625}\n",
                        "Losses {'ner': 71.03349101587736}\n",
                        "Losses {'ner': 102.09822964704176}\n",
                        "Losses {'ner': 149.16569467832284}\n",
                        "Losses {'ner': 160.54300482648546}\n",
                        "Losses {'ner': 185.2602161409427}\n",
                        "Losses {'ner': 211.92311283276496}\n",
                        "Losses {'ner': 230.54631033420068}\n",
                        "Losses {'ner': 687.977837758596}\n",
                        "Losses {'ner': 701.3399430216823}\n",
                        "Losses {'ner': 717.182254548139}\n",
                        "Losses {'ner': 35.569449303866215}\n",
                        "Losses {'ner': 48.37501392012784}\n",
                        "Losses {'ner': 106.41301068229463}\n",
                        "Losses {'ner': 143.3798117737877}\n",
                        "Losses {'ner': 161.7668515156783}\n",
                        "Losses {'ner': 176.51874405550853}\n",
                        "Losses {'ner': 199.94999527731505}\n",
                        "Losses {'ner': 260.564573756289}\n",
                        "Losses {'ner': 291.0856801490582}\n",
                        "Losses {'ner': 752.596192776955}\n",
                        "Losses {'ner': 762.2424198768756}\n",
                        "Losses {'ner': 768.1976635415188}\n",
                        "Losses {'ner': 24.01296864936681}\n",
                        "Losses {'ner': 81.88258112605821}\n",
                        "Losses {'ner': 95.54590928577842}\n",
                        "Losses {'ner': 131.73894391293908}\n",
                        "Losses {'ner': 162.10573121050854}\n",
                        "Losses {'ner': 191.88231870877115}\n",
                        "Losses {'ner': 228.3295792926291}\n",
                        "Losses {'ner': 258.2409042767283}\n",
                        "Losses {'ner': 290.7948932710288}\n",
                        "Losses {'ner': 318.16252671841863}\n",
                        "Losses {'ner': 332.5274217084673}\n",
                        "Losses {'ner': 810.6470481973856}\n",
                        "Losses {'ner': 11.24819369316666}\n",
                        "Losses {'ner': 55.19188783691313}\n",
                        "Losses {'ner': 77.04732871232358}\n",
                        "Losses {'ner': 88.62963658960149}\n",
                        "Losses {'ner': 529.2174812152201}\n",
                        "Losses {'ner': 576.1077300564014}\n",
                        "Losses {'ner': 588.1960811808214}\n",
                        "Losses {'ner': 627.502453954494}\n",
                        "Losses {'ner': 643.768127000789}\n",
                        "Losses {'ner': 666.0253522863602}\n",
                        "Losses {'ner': 682.6892892178302}\n",
                        "Losses {'ner': 688.3557966876112}\n",
                        "Losses {'ner': 23.59865702959824}\n",
                        "Losses {'ner': 58.69949722066814}\n",
                        "Losses {'ner': 78.96958083897009}\n",
                        "Losses {'ner': 105.92945405727212}\n",
                        "Losses {'ner': 136.27957837238034}\n",
                        "Losses {'ner': 159.66796056980462}\n",
                        "Losses {'ner': 178.4680649791019}\n",
                        "Losses {'ner': 446.7656411741617}\n",
                        "Losses {'ner': 482.0457450996337}\n",
                        "Losses {'ner': 493.64975794472025}\n",
                        "Losses {'ner': 508.0389286991068}\n",
                        "Losses {'ner': 513.0880100512064}\n",
                        "Losses {'ner': 38.71890078079048}\n",
                        "Losses {'ner': 53.14428371092336}\n",
                        "Losses {'ner': 103.80160167517668}\n",
                        "Losses {'ner': 137.132026990936}\n",
                        "Losses {'ner': 154.62500055593455}\n",
                        "Losses {'ner': 465.41090547558144}\n",
                        "Losses {'ner': 485.3676689965268}\n",
                        "Losses {'ner': 500.10860780509734}\n",
                        "Losses {'ner': 534.7063914946381}\n",
                        "Losses {'ner': 548.6425170448595}\n",
                        "Losses {'ner': 577.6327343516286}\n",
                        "Losses {'ner': 588.5361343974798}\n",
                        "Losses {'ner': 33.92522523498981}\n",
                        "Losses {'ner': 51.90705898445782}\n",
                        "Losses {'ner': 101.67811293857777}\n",
                        "Losses {'ner': 118.85430192282526}\n",
                        "Losses {'ner': 168.19866760836155}\n",
                        "Losses {'ner': 183.8696650590076}\n",
                        "Losses {'ner': 212.42787592729928}\n",
                        "Losses {'ner': 219.31381665556833}\n",
                        "Losses {'ner': 547.3144654621658}\n",
                        "Losses {'ner': 568.9434504903443}\n",
                        "Losses {'ner': 596.6753245857519}\n",
                        "Losses {'ner': 604.1353042172047}\n",
                        "Losses {'ner': 11.849679774233726}\n",
                        "Losses {'ner': 44.26114884544516}\n",
                        "Losses {'ner': 59.179452724004506}\n",
                        "Losses {'ner': 98.0325289376495}\n",
                        "Losses {'ner': 290.1224779555689}\n",
                        "Losses {'ner': 297.0156760427251}\n",
                        "Losses {'ner': 323.63770788465024}\n",
                        "Losses {'ner': 369.2861844922941}\n",
                        "Losses {'ner': 389.60696078101546}\n",
                        "Losses {'ner': 400.715105229421}\n",
                        "Losses {'ner': 425.5819988743459}\n",
                        "Losses {'ner': 434.64683676962784}\n",
                        "Losses {'ner': 16.361764994843696}\n",
                        "Losses {'ner': 43.599476644834986}\n",
                        "Losses {'ner': 58.02960323417509}\n",
                        "Losses {'ner': 90.43385680817822}\n",
                        "Losses {'ner': 113.86771505080588}\n",
                        "Losses {'ner': 273.50914844544195}\n",
                        "Losses {'ner': 307.5321194530398}\n",
                        "Losses {'ner': 324.44881593115963}\n",
                        "Losses {'ner': 360.04177521593147}\n",
                        "Losses {'ner': 368.6763889990888}\n",
                        "Losses {'ner': 389.6752743838751}\n",
                        "Losses {'ner': 390.9382434642957}\n",
                        "Losses {'ner': 9.805456682062433}\n",
                        "Losses {'ner': 19.32101182238913}\n",
                        "Losses {'ner': 46.88675582944547}\n",
                        "Losses {'ner': 71.73904450732616}\n",
                        "Losses {'ner': 101.54394671200654}\n",
                        "Losses {'ner': 111.01195276571616}\n",
                        "Losses {'ner': 139.9341817088406}\n",
                        "Losses {'ner': 165.6870635458756}\n",
                        "Losses {'ner': 198.2783248640503}\n",
                        "Losses {'ner': 481.1747050421434}\n",
                        "Losses {'ner': 492.35523770085956}\n",
                        "Losses {'ner': 509.131303297819}\n",
                        "Losses {'ner': 39.8371441533221}\n",
                        "Losses {'ner': 54.79259934703825}\n",
                        "Losses {'ner': 72.68040215635618}\n",
                        "Losses {'ner': 81.67512331171292}\n",
                        "Losses {'ner': 96.66425945534921}\n",
                        "Losses {'ner': 113.15811880309845}\n",
                        "Losses {'ner': 147.5779500425648}\n",
                        "Losses {'ner': 160.44567812093118}\n",
                        "Losses {'ner': 174.7170034451473}\n",
                        "Losses {'ner': 327.9901641557264}\n",
                        "Losses {'ner': 341.215299242555}\n",
                        "Losses {'ner': 346.90575708717}\n",
                        "Losses {'ner': 13.834682965611472}\n",
                        "Losses {'ner': 34.19470053075274}\n",
                        "Losses {'ner': 51.11740788593995}\n",
                        "Losses {'ner': 63.852292496795705}\n",
                        "Losses {'ner': 87.05905835421314}\n",
                        "Losses {'ner': 111.09690178943792}\n",
                        "Losses {'ner': 134.53040023618345}\n",
                        "Losses {'ner': 268.2880907254717}\n",
                        "Losses {'ner': 309.5619666271134}\n",
                        "Losses {'ner': 314.20251449672696}\n",
                        "Losses {'ner': 334.87462981673707}\n",
                        "Losses {'ner': 341.1205218835835}\n",
                        "Losses {'ner': 33.47246085240986}\n",
                        "Losses {'ner': 37.49418574993522}\n",
                        "Losses {'ner': 254.9898374645263}\n",
                        "Losses {'ner': 272.22391591008187}\n",
                        "Losses {'ner': 281.37894988622156}\n",
                        "Losses {'ner': 292.2018153660011}\n",
                        "Losses {'ner': 308.8021858393063}\n",
                        "Losses {'ner': 334.3328927929946}\n",
                        "Losses {'ner': 356.659625082813}\n",
                        "Losses {'ner': 384.9097719578877}\n",
                        "Losses {'ner': 404.9235808364969}\n",
                        "Losses {'ner': 407.81602817081955}\n",
                        "Losses {'ner': 15.790475853474979}\n",
                        "Losses {'ner': 28.987914698197287}\n",
                        "Losses {'ner': 54.71106608981998}\n",
                        "Losses {'ner': 326.9815668903115}\n",
                        "Losses {'ner': 341.14638298437615}\n",
                        "Losses {'ner': 377.6707010196221}\n",
                        "Losses {'ner': 393.29586831959597}\n",
                        "Losses {'ner': 401.05303371583807}\n",
                        "Losses {'ner': 439.14069459547295}\n",
                        "Losses {'ner': 447.6182048632713}\n",
                        "Losses {'ner': 468.5428364213829}\n",
                        "Losses {'ner': 477.81052055974106}\n",
                        "Losses {'ner': 20.58715295337854}\n",
                        "Losses {'ner': 30.346310094013816}\n",
                        "Losses {'ner': 51.45172412826015}\n",
                        "Losses {'ner': 65.55254090315468}\n",
                        "Losses {'ner': 109.1229711835219}\n",
                        "Losses {'ner': 137.9087719247815}\n",
                        "Losses {'ner': 269.7883856395117}\n",
                        "Losses {'ner': 277.32548422017203}\n",
                        "Losses {'ner': 286.3549966695934}\n",
                        "Losses {'ner': 291.7316499718324}\n",
                        "Losses {'ner': 310.2905233028476}\n",
                        "Losses {'ner': 322.6082141737394}\n",
                        "Losses {'ner': 15.564962665972374}\n",
                        "Losses {'ner': 23.729171703004543}\n",
                        "Losses {'ner': 39.434959549961896}\n",
                        "Losses {'ner': 53.72794706002645}\n",
                        "Losses {'ner': 72.34204593950365}\n",
                        "Losses {'ner': 80.61522835847487}\n",
                        "Losses {'ner': 99.89375985857662}\n",
                        "Losses {'ner': 341.30871179838675}\n",
                        "Losses {'ner': 380.0355776710403}\n",
                        "Losses {'ner': 398.0281091588493}\n",
                        "Losses {'ner': 421.93354315492996}\n",
                        "Losses {'ner': 435.0082553887947}\n",
                        "Losses {'ner': 10.655732978738325}\n",
                        "Losses {'ner': 30.273752502585623}\n",
                        "Losses {'ner': 35.27478554166257}\n",
                        "Losses {'ner': 44.71939712157709}\n",
                        "Losses {'ner': 85.27323153246876}\n",
                        "Losses {'ner': 117.09802968499751}\n",
                        "Losses {'ner': 131.22423114354453}\n",
                        "Losses {'ner': 161.69016009894364}\n",
                        "Losses {'ner': 173.09352096135675}\n",
                        "Losses {'ner': 278.0308520200904}\n",
                        "Losses {'ner': 283.68450837347507}\n",
                        "Losses {'ner': 295.214097044561}\n",
                        "Losses {'ner': 17.296089224030776}\n",
                        "Losses {'ner': 41.46781836682334}\n",
                        "Losses {'ner': 60.80081964181076}\n",
                        "Losses {'ner': 90.33272439984732}\n",
                        "Losses {'ner': 98.78059395327794}\n",
                        "Losses {'ner': 106.14419771031334}\n",
                        "Losses {'ner': 138.02997397537032}\n",
                        "Losses {'ner': 263.5008256260045}\n",
                        "Losses {'ner': 267.1552451359672}\n",
                        "Losses {'ner': 290.09404015429027}\n",
                        "Losses {'ner': 299.4851075464099}\n",
                        "Losses {'ner': 313.7359106534364}\n",
                        "Losses {'ner': 7.267714721536988}\n",
                        "Losses {'ner': 14.012905350101738}\n",
                        "Losses {'ner': 37.7386063864767}\n",
                        "Losses {'ner': 57.763327056551375}\n",
                        "Losses {'ner': 65.39884740879431}\n",
                        "Losses {'ner': 289.79458449383606}\n",
                        "Losses {'ner': 313.0878612150606}\n",
                        "Losses {'ner': 330.8452368602881}\n",
                        "Losses {'ner': 334.3879323462185}\n",
                        "Losses {'ner': 367.81940722969165}\n",
                        "Losses {'ner': 377.02864591226836}\n",
                        "Losses {'ner': 390.3852265715756}\n"
                    ]
                }
            ],
            "metadata": {}
        },
        {
            "cell_type": "code",
            "execution_count": 8,
            "source": [
                "from spacy.scorer import Scorer\r\n",
                "from spacy.tokens import Doc\r\n",
                "\r\n",
                "def evaluate(ner_model, examples):\r\n",
                "    scorer = Scorer()\r\n",
                "    example = []\r\n",
                "    for input_, annot in examples:\r\n",
                "        pred = ner_model(input_)\r\n",
                "        #print(pred,annot)\r\n",
                "        temp = Example.from_dict(pred, annot)\r\n",
                "        example.append(temp)\r\n",
                "    scores = scorer.score(example)\r\n",
                "    return scores\r\n",
                "\r\n",
                "results = evaluate(nlp, TEST_DATA)\r\n",
                "print(results)"
            ],
            "outputs": [
                {
                    "output_type": "stream",
                    "name": "stderr",
                    "text": [
                        "C:\\Users\\lilia\\AppData\\Local\\Programs\\Python\\Python39\\lib\\site-packages\\spacy\\training\\iob_utils.py:139: UserWarning: [W030] Some entities could not be aligned in the text \"Ingeniero edificios departamentales del Cauca , 19...\" with entities \"[[0, 35, 'POSITION'], [40, 45, 'LOCATION'], [47, 5...\". Use `spacy.training.offsets_to_biluo_tags(nlp.make_doc(text), entities)` to check the alignment. Misaligned entities ('-') will be ignored during training.\n",
                        "  warnings.warn(\n",
                        "C:\\Users\\lilia\\AppData\\Local\\Programs\\Python\\Python39\\lib\\site-packages\\spacy\\training\\iob_utils.py:139: UserWarning: [W030] Some entities could not be aligned in the text \"Asesor Jurídico del Ministerio de Relaciones Exter...\" with entities \"[[0, 15, 'POSITION'], [20, 55, 'ORGANISATION'], [5...\". Use `spacy.training.offsets_to_biluo_tags(nlp.make_doc(text), entities)` to check the alignment. Misaligned entities ('-') will be ignored during training.\n",
                        "  warnings.warn(\n",
                        "C:\\Users\\lilia\\AppData\\Local\\Programs\\Python\\Python39\\lib\\site-packages\\spacy\\training\\iob_utils.py:139: UserWarning: [W030] Some entities could not be aligned in the text \"Diputado a la Asamblea de Cundinamarca, como princ...\" with entities \"[[0, 8, 'POSITION'], [14, 38, 'ORGANISATION'], [56...\". Use `spacy.training.offsets_to_biluo_tags(nlp.make_doc(text), entities)` to check the alignment. Misaligned entities ('-') will be ignored during training.\n",
                        "  warnings.warn(\n",
                        "C:\\Users\\lilia\\AppData\\Local\\Programs\\Python\\Python39\\lib\\site-packages\\spacy\\training\\iob_utils.py:139: UserWarning: [W030] Some entities could not be aligned in the text \"Ingeniero del Acueducto de Bogotá; Ingeniero de Fo...\" with entities \"[[0, 9, 'POSITION'], [14, 33, 'ORGANISATION'], [35...\". Use `spacy.training.offsets_to_biluo_tags(nlp.make_doc(text), entities)` to check the alignment. Misaligned entities ('-') will be ignored during training.\n",
                        "  warnings.warn(\n",
                        "C:\\Users\\lilia\\AppData\\Local\\Programs\\Python\\Python39\\lib\\site-packages\\spacy\\training\\iob_utils.py:139: UserWarning: [W030] Some entities could not be aligned in the text \"Miembro del Concejo Municipal de Cartagena, dos oc...\" with entities \"[[0, 7, 'POSITION'], [12, 42, 'ORGANISATION'], [59...\". Use `spacy.training.offsets_to_biluo_tags(nlp.make_doc(text), entities)` to check the alignment. Misaligned entities ('-') will be ignored during training.\n",
                        "  warnings.warn(\n",
                        "C:\\Users\\lilia\\AppData\\Local\\Programs\\Python\\Python39\\lib\\site-packages\\spacy\\training\\iob_utils.py:139: UserWarning: [W030] Some entities could not be aligned in the text \"Ingeniero Jefe de la Sección Norte del Departament...\" with entities \"[[0, 14, 'POSITION'], [21, 61, 'ORGANISATION'], [6...\". Use `spacy.training.offsets_to_biluo_tags(nlp.make_doc(text), entities)` to check the alignment. Misaligned entities ('-') will be ignored during training.\n",
                        "  warnings.warn(\n",
                        "C:\\Users\\lilia\\AppData\\Local\\Programs\\Python\\Python39\\lib\\site-packages\\spacy\\training\\iob_utils.py:139: UserWarning: [W030] Some entities could not be aligned in the text \"Proyectista de la Casa Urigar , 1935 a 1936; proye...\" with entities \"[[0, 11, 'POSITION'], [18, 29, 'ORGANISATION'], [3...\". Use `spacy.training.offsets_to_biluo_tags(nlp.make_doc(text), entities)` to check the alignment. Misaligned entities ('-') will be ignored during training.\n",
                        "  warnings.warn(\n",
                        "C:\\Users\\lilia\\AppData\\Local\\Programs\\Python\\Python39\\lib\\site-packages\\spacy\\training\\iob_utils.py:139: UserWarning: [W030] Some entities could not be aligned in the text \"Representante a la Cámara, cuatro períodos; Senado...\" with entities \"[[0, 25, 'POSITION'], [44, 67, 'POSITION'], [69, 9...\". Use `spacy.training.offsets_to_biluo_tags(nlp.make_doc(text), entities)` to check the alignment. Misaligned entities ('-') will be ignored during training.\n",
                        "  warnings.warn(\n",
                        "C:\\Users\\lilia\\AppData\\Local\\Programs\\Python\\Python39\\lib\\site-packages\\spacy\\training\\iob_utils.py:139: UserWarning: [W030] Some entities could not be aligned in the text \"Funcionario de la Sub-Gerencia y Maquinaria Agríco...\" with entities \"[[0, 11, 'POSITION'], [18, 52, 'ORGANISATION'], [7...\". Use `spacy.training.offsets_to_biluo_tags(nlp.make_doc(text), entities)` to check the alignment. Misaligned entities ('-') will be ignored during training.\n",
                        "  warnings.warn(\n",
                        "C:\\Users\\lilia\\AppData\\Local\\Programs\\Python\\Python39\\lib\\site-packages\\spacy\\training\\iob_utils.py:139: UserWarning: [W030] Some entities could not be aligned in the text \"Director de Publicaciones, Biblioteca y Archivos d...\" with entities \"[[0, 48, 'POSITION'], [53, 87, 'ORGANISATION'], [8...\". Use `spacy.training.offsets_to_biluo_tags(nlp.make_doc(text), entities)` to check the alignment. Misaligned entities ('-') will be ignored during training.\n",
                        "  warnings.warn(\n",
                        "C:\\Users\\lilia\\AppData\\Local\\Programs\\Python\\Python39\\lib\\site-packages\\spacy\\training\\iob_utils.py:139: UserWarning: [W030] Some entities could not be aligned in the text \"Agregado Instituto Medicina y Cirugía Experimental...\" with entities \"[[0, 50, 'ORGANISATION'], [52, 75, 'ORGANISATION']...\". Use `spacy.training.offsets_to_biluo_tags(nlp.make_doc(text), entities)` to check the alignment. Misaligned entities ('-') will be ignored during training.\n",
                        "  warnings.warn(\n",
                        "C:\\Users\\lilia\\AppData\\Local\\Programs\\Python\\Python39\\lib\\site-packages\\spacy\\training\\iob_utils.py:139: UserWarning: [W030] Some entities could not be aligned in the text \"Juez 32 Unico Municipal de Sogamoso , 1951-53. Dir...\" with entities \"[[30, 38, 'LOCATION'], [40, 48, 'DATE'], [49, 56, ...\". Use `spacy.training.offsets_to_biluo_tags(nlp.make_doc(text), entities)` to check the alignment. Misaligned entities ('-') will be ignored during training.\n",
                        "  warnings.warn(\n",
                        "C:\\Users\\lilia\\AppData\\Local\\Programs\\Python\\Python39\\lib\\site-packages\\spacy\\training\\iob_utils.py:139: UserWarning: [W030] Some entities could not be aligned in the text \"miembro de la redacción de \" La Voz de Caldas \", M...\" with entities \"[[0, 23, 'POSITION'], [28, 44, 'ORGANISATION'], [4...\". Use `spacy.training.offsets_to_biluo_tags(nlp.make_doc(text), entities)` to check the alignment. Misaligned entities ('-') will be ignored during training.\n",
                        "  warnings.warn(\n",
                        "C:\\Users\\lilia\\AppData\\Local\\Programs\\Python\\Python39\\lib\\site-packages\\spacy\\training\\iob_utils.py:139: UserWarning: [W030] Some entities could not be aligned in the text \"Ingeniero de la Tropical Oil Company, Departamento...\" with entities \"[[0, 9, 'POSITION'], [16, 80, 'ORGANISATION'], [82...\". Use `spacy.training.offsets_to_biluo_tags(nlp.make_doc(text), entities)` to check the alignment. Misaligned entities ('-') will be ignored during training.\n",
                        "  warnings.warn(\n",
                        "C:\\Users\\lilia\\AppData\\Local\\Programs\\Python\\Python39\\lib\\site-packages\\spacy\\training\\iob_utils.py:139: UserWarning: [W030] Some entities could not be aligned in the text \"Director de Construcción de importantes edificios,...\" with entities \"[[0, 24, 'POSITION'], [59, 89, 'ORGANISATION'], [9...\". Use `spacy.training.offsets_to_biluo_tags(nlp.make_doc(text), entities)` to check the alignment. Misaligned entities ('-') will be ignored during training.\n",
                        "  warnings.warn(\n"
                    ]
                },
                {
                    "output_type": "stream",
                    "name": "stdout",
                    "text": [
                        "{'token_acc': 1.0, 'token_p': 1.0, 'token_r': 1.0, 'token_f': 1.0, 'sents_p': None, 'sents_r': None, 'sents_f': None, 'tag_acc': None, 'pos_acc': None, 'morph_acc': None, 'morph_per_feat': None, 'dep_uas': None, 'dep_las': None, 'dep_las_per_type': None, 'ents_p': 0.4830508474576271, 'ents_r': 0.6263736263736264, 'ents_f': 0.5454545454545454, 'ents_per_type': {'POSITION': {'p': 0.5348837209302325, 'r': 0.5609756097560976, 'f': 0.5476190476190476}, 'LOCATION': {'p': 0.43243243243243246, 'r': 0.8421052631578947, 'f': 0.5714285714285715}, 'ORGANISATION': {'p': 0.4594594594594595, 'r': 0.5666666666666667, 'f': 0.5074626865671642}, 'DATE': {'p': 1.0, 'r': 1.0, 'f': 1.0}}, 'cats_score': 0.0, 'cats_score_desc': 'macro F', 'cats_micro_p': 0.0, 'cats_micro_r': 0.0, 'cats_micro_f': 0.0, 'cats_macro_p': 0.0, 'cats_macro_r': 0.0, 'cats_macro_f': 0.0, 'cats_macro_auc': 0.0, 'cats_f_per_type': {}, 'cats_auc_per_type': {}}\n"
                    ]
                },
                {
                    "output_type": "stream",
                    "name": "stderr",
                    "text": [
                        "C:\\Users\\lilia\\AppData\\Local\\Programs\\Python\\Python39\\lib\\site-packages\\spacy\\training\\iob_utils.py:139: UserWarning: [W030] Some entities could not be aligned in the text \"Ingeniero-secretario comisión límites con Brasil ,...\" with entities \"[[0, 20, 'POSITION'], [42, 48, 'LOCATION'], [50, 5...\". Use `spacy.training.offsets_to_biluo_tags(nlp.make_doc(text), entities)` to check the alignment. Misaligned entities ('-') will be ignored during training.\n",
                        "  warnings.warn(\n"
                    ]
                }
            ],
            "metadata": {}
        },
        {
            "cell_type": "code",
            "execution_count": 9,
            "source": [
                "# Save the  model to directory\r\n",
                "output_dir = Path('/content/')\r\n",
                "nlp.to_disk(output_dir)\r\n",
                "print(\"Saved model to\", output_dir)"
            ],
            "outputs": [
                {
                    "output_type": "stream",
                    "name": "stdout",
                    "text": [
                        "Saved model to \\content\n"
                    ]
                }
            ],
            "metadata": {}
        }
    ],
    "metadata": {
        "orig_nbformat": 4,
        "language_info": {
            "name": "python",
            "version": "3.9.4",
            "mimetype": "text/x-python",
            "codemirror_mode": {
                "name": "ipython",
                "version": 3
            },
            "pygments_lexer": "ipython3",
            "nbconvert_exporter": "python",
            "file_extension": ".py"
        },
        "kernelspec": {
            "name": "python3",
            "display_name": "Python 3.9.4 64-bit"
        },
        "interpreter": {
            "hash": "ae9e5fb05c4e07405c95453073fad91cde291ec1571923ebb60ab806dff8b1c9"
        }
    },
    "nbformat": 4,
    "nbformat_minor": 2
}